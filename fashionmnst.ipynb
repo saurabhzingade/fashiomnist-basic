{
  "nbformat": 4,
  "nbformat_minor": 0,
  "metadata": {
    "colab": {
      "name": "fashionmnst.ipynb",
      "provenance": [],
      "collapsed_sections": []
    },
    "kernelspec": {
      "name": "python3",
      "display_name": "Python 3"
    }
  },
  "cells": [
    {
      "cell_type": "code",
      "metadata": {
        "id": "VKsZdmOvG9tW",
        "colab_type": "code",
        "colab": {
          "base_uri": "https://localhost:8080/",
          "height": 73
        },
        "outputId": "5dd502a7-18ae-4be7-a0fe-3aa2f5952b66"
      },
      "source": [
        "\n",
        "import pandas as pd\n",
        "import numpy as np\n",
        "import seaborn as sns\n",
        "import matplotlib.pyplot as plt\n",
        "from matplotlib.image import imread\n",
        "%matplotlib inline"
      ],
      "execution_count": 1,
      "outputs": [
        {
          "output_type": "stream",
          "text": [
            "/usr/local/lib/python3.6/dist-packages/statsmodels/tools/_testing.py:19: FutureWarning: pandas.util.testing is deprecated. Use the functions in the public API at pandas.testing instead.\n",
            "  import pandas.util.testing as tm\n"
          ],
          "name": "stderr"
        }
      ]
    },
    {
      "cell_type": "code",
      "metadata": {
        "id": "TJu4ANwWHm6h",
        "colab_type": "code",
        "colab": {}
      },
      "source": [
        "from tensorflow.keras.datasets import fashion_mnist"
      ],
      "execution_count": 0,
      "outputs": []
    },
    {
      "cell_type": "code",
      "metadata": {
        "id": "iejB7qnNHu7P",
        "colab_type": "code",
        "colab": {
          "base_uri": "https://localhost:8080/",
          "height": 163
        },
        "outputId": "84f5df1a-ab4d-4b59-ef76-df8aa75c77d3"
      },
      "source": [
        "(X_train,y_train),(X_test,y_test) = fashion_mnist.load_data()"
      ],
      "execution_count": 3,
      "outputs": [
        {
          "output_type": "stream",
          "text": [
            "Downloading data from https://storage.googleapis.com/tensorflow/tf-keras-datasets/train-labels-idx1-ubyte.gz\n",
            "32768/29515 [=================================] - 0s 0us/step\n",
            "Downloading data from https://storage.googleapis.com/tensorflow/tf-keras-datasets/train-images-idx3-ubyte.gz\n",
            "26427392/26421880 [==============================] - 0s 0us/step\n",
            "Downloading data from https://storage.googleapis.com/tensorflow/tf-keras-datasets/t10k-labels-idx1-ubyte.gz\n",
            "8192/5148 [===============================================] - 0s 0us/step\n",
            "Downloading data from https://storage.googleapis.com/tensorflow/tf-keras-datasets/t10k-images-idx3-ubyte.gz\n",
            "4423680/4422102 [==============================] - 0s 0us/step\n"
          ],
          "name": "stdout"
        }
      ]
    },
    {
      "cell_type": "code",
      "metadata": {
        "id": "nhQ4zwdiH1oR",
        "colab_type": "code",
        "colab": {
          "base_uri": "https://localhost:8080/",
          "height": 35
        },
        "outputId": "0137db47-6170-4175-96d6-eec8db245ba5"
      },
      "source": [
        "X_train.shape"
      ],
      "execution_count": 4,
      "outputs": [
        {
          "output_type": "execute_result",
          "data": {
            "text/plain": [
              "(60000, 28, 28)"
            ]
          },
          "metadata": {
            "tags": []
          },
          "execution_count": 4
        }
      ]
    },
    {
      "cell_type": "code",
      "metadata": {
        "id": "dBAxjzhFIY2f",
        "colab_type": "code",
        "colab": {
          "base_uri": "https://localhost:8080/",
          "height": 1000
        },
        "outputId": "33d85e7b-9762-4afe-c66c-5f1731abe5ee"
      },
      "source": [
        "X_train[1]"
      ],
      "execution_count": 5,
      "outputs": [
        {
          "output_type": "execute_result",
          "data": {
            "text/plain": [
              "array([[  0,   0,   0,   0,   0,   1,   0,   0,   0,   0,  41, 188, 103,\n",
              "         54,  48,  43,  87, 168, 133,  16,   0,   0,   0,   0,   0,   0,\n",
              "          0,   0],\n",
              "       [  0,   0,   0,   1,   0,   0,   0,  49, 136, 219, 216, 228, 236,\n",
              "        255, 255, 255, 255, 217, 215, 254, 231, 160,  45,   0,   0,   0,\n",
              "          0,   0],\n",
              "       [  0,   0,   0,   0,   0,  14, 176, 222, 224, 212, 203, 198, 196,\n",
              "        200, 215, 204, 202, 201, 201, 201, 209, 218, 224, 164,   0,   0,\n",
              "          0,   0],\n",
              "       [  0,   0,   0,   0,   0, 188, 219, 200, 198, 202, 198, 199, 199,\n",
              "        201, 196, 198, 198, 200, 200, 200, 200, 201, 200, 225,  41,   0,\n",
              "          0,   0],\n",
              "       [  0,   0,   0,   0,  51, 219, 199, 203, 203, 212, 238, 248, 250,\n",
              "        245, 249, 246, 247, 252, 248, 235, 207, 203, 203, 222, 140,   0,\n",
              "          0,   0],\n",
              "       [  0,   0,   0,   0, 116, 226, 206, 204, 207, 204, 101,  75,  47,\n",
              "         73,  48,  50,  45,  51,  63, 113, 222, 202, 206, 220, 224,   0,\n",
              "          0,   0],\n",
              "       [  0,   0,   0,   0, 200, 222, 209, 203, 215, 200,   0,  70,  98,\n",
              "          0, 103,  59,  68,  71,  49,   0, 219, 206, 214, 210, 250,  38,\n",
              "          0,   0],\n",
              "       [  0,   0,   0,   0, 247, 218, 212, 210, 215, 214,   0, 254, 243,\n",
              "        139, 255, 174, 251, 255, 205,   0, 215, 217, 214, 208, 220,  95,\n",
              "          0,   0],\n",
              "       [  0,   0,   0,  45, 226, 214, 214, 215, 224, 205,   0,  42,  35,\n",
              "         60,  16,  17,  12,  13,  70,   0, 189, 216, 212, 206, 212, 156,\n",
              "          0,   0],\n",
              "       [  0,   0,   0, 164, 235, 214, 211, 220, 216, 201,  52,  71,  89,\n",
              "         94,  83,  78,  70,  76,  92,  87, 206, 207, 222, 213, 219, 208,\n",
              "          0,   0],\n",
              "       [  0,   0,   0, 106, 187, 223, 237, 248, 211, 198, 252, 250, 248,\n",
              "        245, 248, 252, 253, 250, 252, 239, 201, 212, 225, 215, 193, 113,\n",
              "          0,   0],\n",
              "       [  0,   0,   0,   0,   0,  17,  54, 159, 222, 193, 208, 192, 197,\n",
              "        200, 200, 200, 200, 201, 203, 195, 210, 165,   0,   0,   0,   0,\n",
              "          0,   0],\n",
              "       [  0,   0,   0,   0,   0,   0,   0,  47, 225, 192, 214, 203, 206,\n",
              "        204, 204, 205, 206, 204, 212, 197, 218, 107,   0,   0,   0,   0,\n",
              "          0,   0],\n",
              "       [  0,   0,   0,   0,   1,   6,   0,  46, 212, 195, 212, 202, 206,\n",
              "        205, 204, 205, 206, 204, 212, 200, 218,  91,   0,   3,   1,   0,\n",
              "          0,   0],\n",
              "       [  0,   0,   0,   0,   0,   1,   0,  11, 197, 199, 205, 202, 205,\n",
              "        206, 204, 205, 207, 204, 205, 205, 218,  77,   0,   5,   0,   0,\n",
              "          0,   0],\n",
              "       [  0,   0,   0,   0,   0,   3,   0,   2, 191, 198, 201, 205, 206,\n",
              "        205, 205, 206, 209, 206, 199, 209, 219,  74,   0,   5,   0,   0,\n",
              "          0,   0],\n",
              "       [  0,   0,   0,   0,   0,   2,   0,   0, 188, 197, 200, 207, 207,\n",
              "        204, 207, 207, 210, 208, 198, 207, 221,  72,   0,   4,   0,   0,\n",
              "          0,   0],\n",
              "       [  0,   0,   0,   0,   0,   2,   0,   0, 215, 198, 203, 206, 208,\n",
              "        205, 207, 207, 210, 208, 200, 202, 222,  75,   0,   4,   0,   0,\n",
              "          0,   0],\n",
              "       [  0,   0,   0,   0,   0,   1,   0,   0, 212, 198, 209, 206, 209,\n",
              "        206, 208, 207, 211, 206, 205, 198, 221,  80,   0,   3,   0,   0,\n",
              "          0,   0],\n",
              "       [  0,   0,   0,   0,   0,   1,   0,   0, 204, 201, 205, 208, 207,\n",
              "        205, 211, 205, 210, 210, 209, 195, 221,  96,   0,   3,   0,   0,\n",
              "          0,   0],\n",
              "       [  0,   0,   0,   0,   0,   1,   0,   0, 202, 201, 205, 209, 207,\n",
              "        205, 213, 206, 210, 209, 210, 194, 217, 105,   0,   2,   0,   0,\n",
              "          0,   0],\n",
              "       [  0,   0,   0,   0,   0,   1,   0,   0, 204, 204, 205, 208, 207,\n",
              "        205, 215, 207, 210, 208, 211, 193, 213, 115,   0,   2,   0,   0,\n",
              "          0,   0],\n",
              "       [  0,   0,   0,   0,   0,   0,   0,   0, 204, 207, 207, 208, 206,\n",
              "        206, 215, 210, 210, 207, 212, 195, 210, 118,   0,   2,   0,   0,\n",
              "          0,   0],\n",
              "       [  0,   0,   0,   0,   0,   1,   0,   0, 198, 208, 208, 208, 204,\n",
              "        207, 212, 212, 210, 207, 211, 196, 207, 121,   0,   1,   0,   0,\n",
              "          0,   0],\n",
              "       [  0,   0,   0,   0,   0,   1,   0,   0, 198, 210, 207, 208, 206,\n",
              "        209, 213, 212, 211, 207, 210, 197, 207, 124,   0,   1,   0,   0,\n",
              "          0,   0],\n",
              "       [  0,   0,   0,   0,   0,   0,   0,   0, 172, 210, 203, 201, 199,\n",
              "        204, 207, 205, 204, 201, 205, 197, 206, 127,   0,   0,   0,   0,\n",
              "          0,   0],\n",
              "       [  0,   0,   0,   0,   0,   0,   0,   0, 188, 221, 214, 234, 236,\n",
              "        238, 244, 244, 244, 240, 243, 214, 224, 162,   0,   2,   0,   0,\n",
              "          0,   0],\n",
              "       [  0,   0,   0,   0,   0,   1,   0,   0, 139, 146, 130, 135, 135,\n",
              "        137, 125, 124, 125, 121, 119, 114, 130,  76,   0,   0,   0,   0,\n",
              "          0,   0]], dtype=uint8)"
            ]
          },
          "metadata": {
            "tags": []
          },
          "execution_count": 5
        }
      ]
    },
    {
      "cell_type": "code",
      "metadata": {
        "id": "rPPDyM8uIaYQ",
        "colab_type": "code",
        "colab": {
          "base_uri": "https://localhost:8080/",
          "height": 283
        },
        "outputId": "37c37649-a581-4455-d9d2-f7641a2a0f1d"
      },
      "source": [
        "plt.imshow(X_train[5])"
      ],
      "execution_count": 7,
      "outputs": [
        {
          "output_type": "execute_result",
          "data": {
            "text/plain": [
              "<matplotlib.image.AxesImage at 0x7f73870033c8>"
            ]
          },
          "metadata": {
            "tags": []
          },
          "execution_count": 7
        },
        {
          "output_type": "display_data",
          "data": {
            "image/png": "[encoded data removed]",
            "text/plain": [
              "<Figure size 432x288 with 1 Axes>"
            ]
          },
          "metadata": {
            "tags": [],
            "needs_background": "light"
          }
        }
      ]
    },
    {
      "cell_type": "code",
      "metadata": {
        "id": "tXPFT19wIc_Q",
        "colab_type": "code",
        "colab": {
          "base_uri": "https://localhost:8080/",
          "height": 283
        },
        "outputId": "80500061-a456-4114-f282-c0704614cceb"
      },
      "source": [
        "plt.imshow(X_train[2555],cmap='hot')"
      ],
      "execution_count": 11,
      "outputs": [
        {
          "output_type": "execute_result",
          "data": {
            "text/plain": [
              "<matplotlib.image.AxesImage at 0x7f7386e797f0>"
            ]
          },
          "metadata": {
            "tags": []
          },
          "execution_count": 11
        },
        {
          "output_type": "display_data",
          "data": {
            "image/png": "[encoded data removed]",
            "text/plain": [
              "<Figure size 432x288 with 1 Axes>"
            ]
          },
          "metadata": {
            "tags": [],
            "needs_background": "light"
          }
        }
      ]
    },
    {
      "cell_type": "code",
      "metadata": {
        "id": "qgbBQoK0IgNR",
        "colab_type": "code",
        "colab": {}
      },
      "source": [
        "from tensorflow.keras.utils import to_categorical"
      ],
      "execution_count": 0,
      "outputs": []
    },
    {
      "cell_type": "code",
      "metadata": {
        "id": "kX1EmxgQIpQB",
        "colab_type": "code",
        "colab": {
          "base_uri": "https://localhost:8080/",
          "height": 35
        },
        "outputId": "1f311ef4-a9c7-44eb-d0e3-99abff3d893b"
      },
      "source": [
        "y_train.shape"
      ],
      "execution_count": 13,
      "outputs": [
        {
          "output_type": "execute_result",
          "data": {
            "text/plain": [
              "(60000,)"
            ]
          },
          "metadata": {
            "tags": []
          },
          "execution_count": 13
        }
      ]
    },
    {
      "cell_type": "code",
      "metadata": {
        "id": "33XCxWy6Iq5A",
        "colab_type": "code",
        "colab": {}
      },
      "source": [
        "y_example = to_categorical(y_train,10)"
      ],
      "execution_count": 0,
      "outputs": []
    },
    {
      "cell_type": "code",
      "metadata": {
        "id": "w0tbt3mKItUv",
        "colab_type": "code",
        "colab": {
          "base_uri": "https://localhost:8080/",
          "height": 35
        },
        "outputId": "2f981aed-1333-4383-eb11-5c99a23acace"
      },
      "source": [
        "y_train[0]"
      ],
      "execution_count": 35,
      "outputs": [
        {
          "output_type": "execute_result",
          "data": {
            "text/plain": [
              "9"
            ]
          },
          "metadata": {
            "tags": []
          },
          "execution_count": 35
        }
      ]
    },
    {
      "cell_type": "code",
      "metadata": {
        "id": "1dzCjb7vIwjg",
        "colab_type": "code",
        "colab": {
          "base_uri": "https://localhost:8080/",
          "height": 35
        },
        "outputId": "c078bacc-a072-480a-ce03-f2efe0065ba8"
      },
      "source": [
        "y_example[0]"
      ],
      "execution_count": 36,
      "outputs": [
        {
          "output_type": "execute_result",
          "data": {
            "text/plain": [
              "array([0., 0., 0., 0., 0., 0., 0., 0., 0., 1.], dtype=float32)"
            ]
          },
          "metadata": {
            "tags": []
          },
          "execution_count": 36
        }
      ]
    },
    {
      "cell_type": "code",
      "metadata": {
        "id": "jdjqacEdI2Ig",
        "colab_type": "code",
        "colab": {}
      },
      "source": [
        "y_cat_test = to_categorical(y_test,10)"
      ],
      "execution_count": 0,
      "outputs": []
    },
    {
      "cell_type": "code",
      "metadata": {
        "id": "zoUfGmTCI77g",
        "colab_type": "code",
        "colab": {
          "base_uri": "https://localhost:8080/",
          "height": 35
        },
        "outputId": "3c665bb8-6341-4a19-a3d8-496965a1dfce"
      },
      "source": [
        "y_cat_test.shape"
      ],
      "execution_count": 39,
      "outputs": [
        {
          "output_type": "execute_result",
          "data": {
            "text/plain": [
              "(10000, 10)"
            ]
          },
          "metadata": {
            "tags": []
          },
          "execution_count": 39
        }
      ]
    },
    {
      "cell_type": "code",
      "metadata": {
        "id": "ZapReYjlI9Bg",
        "colab_type": "code",
        "colab": {
          "base_uri": "https://localhost:8080/",
          "height": 35
        },
        "outputId": "d45b7ce4-607d-4ff9-fd85-ba0ee0b4b4a6"
      },
      "source": [
        "y_test.shape"
      ],
      "execution_count": 19,
      "outputs": [
        {
          "output_type": "execute_result",
          "data": {
            "text/plain": [
              "(10000,)"
            ]
          },
          "metadata": {
            "tags": []
          },
          "execution_count": 19
        }
      ]
    },
    {
      "cell_type": "code",
      "metadata": {
        "id": "jBkwKGTcI-5P",
        "colab_type": "code",
        "colab": {}
      },
      "source": [
        "y_cat_train = to_categorical(y_train)"
      ],
      "execution_count": 0,
      "outputs": []
    },
    {
      "cell_type": "code",
      "metadata": {
        "id": "W5SV2BbFJDcA",
        "colab_type": "code",
        "colab": {
          "base_uri": "https://localhost:8080/",
          "height": 35
        },
        "outputId": "cf2b7de3-f861-4d37-acba-9a83d3aea2ba"
      },
      "source": [
        "X_train[1].max()"
      ],
      "execution_count": 21,
      "outputs": [
        {
          "output_type": "execute_result",
          "data": {
            "text/plain": [
              "255"
            ]
          },
          "metadata": {
            "tags": []
          },
          "execution_count": 21
        }
      ]
    },
    {
      "cell_type": "code",
      "metadata": {
        "id": "8TQ61xXTJGFf",
        "colab_type": "code",
        "colab": {
          "base_uri": "https://localhost:8080/",
          "height": 35
        },
        "outputId": "d55ad4ac-54b9-4c82-ea36-3354ccc85403"
      },
      "source": [
        "X_train[1].min()"
      ],
      "execution_count": 22,
      "outputs": [
        {
          "output_type": "execute_result",
          "data": {
            "text/plain": [
              "0"
            ]
          },
          "metadata": {
            "tags": []
          },
          "execution_count": 22
        }
      ]
    },
    {
      "cell_type": "code",
      "metadata": {
        "id": "5dhh23FBJH_Q",
        "colab_type": "code",
        "colab": {}
      },
      "source": [
        "X_train=X_train/255\n",
        "X_test = X_test/255"
      ],
      "execution_count": 0,
      "outputs": []
    },
    {
      "cell_type": "code",
      "metadata": {
        "id": "FiI_1TIWJK9_",
        "colab_type": "code",
        "colab": {
          "base_uri": "https://localhost:8080/",
          "height": 35
        },
        "outputId": "feb78bed-d8df-454f-a23e-8d2a569d2c12"
      },
      "source": [
        "X_train[0].min()"
      ],
      "execution_count": 25,
      "outputs": [
        {
          "output_type": "execute_result",
          "data": {
            "text/plain": [
              "0.0"
            ]
          },
          "metadata": {
            "tags": []
          },
          "execution_count": 25
        }
      ]
    },
    {
      "cell_type": "code",
      "metadata": {
        "id": "P7xbil5aJMvf",
        "colab_type": "code",
        "colab": {
          "base_uri": "https://localhost:8080/",
          "height": 35
        },
        "outputId": "cf7375e6-29c0-4474-ad00-fe2f107aecbe"
      },
      "source": [
        "X_train[0].max()\n",
        "\n"
      ],
      "execution_count": 26,
      "outputs": [
        {
          "output_type": "execute_result",
          "data": {
            "text/plain": [
              "1.0"
            ]
          },
          "metadata": {
            "tags": []
          },
          "execution_count": 26
        }
      ]
    },
    {
      "cell_type": "code",
      "metadata": {
        "id": "CGuy8iACJRmv",
        "colab_type": "code",
        "colab": {
          "base_uri": "https://localhost:8080/",
          "height": 35
        },
        "outputId": "8b5abe88-7bca-4b37-c35b-54ec3d715fc4"
      },
      "source": [
        "X_train.shape"
      ],
      "execution_count": 27,
      "outputs": [
        {
          "output_type": "execute_result",
          "data": {
            "text/plain": [
              "(60000, 28, 28)"
            ]
          },
          "metadata": {
            "tags": []
          },
          "execution_count": 27
        }
      ]
    },
    {
      "cell_type": "code",
      "metadata": {
        "id": "2z9Ku4PJJTjv",
        "colab_type": "code",
        "colab": {}
      },
      "source": [
        "X_train = X_train.reshape(60000,28,28,1)"
      ],
      "execution_count": 0,
      "outputs": []
    },
    {
      "cell_type": "code",
      "metadata": {
        "id": "OSAQ1OBgJWdv",
        "colab_type": "code",
        "colab": {}
      },
      "source": [
        "X_test = X_test.reshape(10000,28,28,1)"
      ],
      "execution_count": 0,
      "outputs": []
    },
    {
      "cell_type": "code",
      "metadata": {
        "id": "VFRN--KlJYDB",
        "colab_type": "code",
        "colab": {
          "base_uri": "https://localhost:8080/",
          "height": 35
        },
        "outputId": "7f83643c-f5bf-49ac-e5d7-0c1cec5b0712"
      },
      "source": [
        "X_test.shape"
      ],
      "execution_count": 31,
      "outputs": [
        {
          "output_type": "execute_result",
          "data": {
            "text/plain": [
              "(10000, 28, 28, 1)"
            ]
          },
          "metadata": {
            "tags": []
          },
          "execution_count": 31
        }
      ]
    },
    {
      "cell_type": "code",
      "metadata": {
        "id": "CiX26XWeJZ_u",
        "colab_type": "code",
        "colab": {}
      },
      "source": [
        "from tensorflow.keras.models import Sequential\n",
        "from tensorflow.keras.layers import Dense,Conv2D,MaxPool2D,Flatten,Dropout\n"
      ],
      "execution_count": 0,
      "outputs": []
    },
    {
      "cell_type": "code",
      "metadata": {
        "id": "qYA7irc_Mm8e",
        "colab_type": "code",
        "colab": {}
      },
      "source": [
        "from tensorflow.keras.callbacks import EarlyStopping"
      ],
      "execution_count": 0,
      "outputs": []
    },
    {
      "cell_type": "code",
      "metadata": {
        "id": "aqWVctF7MtqP",
        "colab_type": "code",
        "colab": {}
      },
      "source": [
        "early_stop = EarlyStopping(monitor='val_loss',patience=2)"
      ],
      "execution_count": 0,
      "outputs": []
    },
    {
      "cell_type": "code",
      "metadata": {
        "id": "n6Qv0QbnKhDw",
        "colab_type": "code",
        "colab": {}
      },
      "source": [
        "model = Sequential()\n",
        "\n",
        "model.add(Conv2D(32,activation='relu',input_shape=(28,28,1),kernel_size=(4,4)))\n",
        "model.add(MaxPool2D(pool_size=(2,2)))\n",
        "model.add(Dropout(0.2))\n",
        "model.add(Conv2D(32,activation='relu',input_shape=(28,28,1),kernel_size=(4,4)))\n",
        "model.add(MaxPool2D(pool_size=(2,2)))\n",
        "\n",
        "\n",
        "model.add(Flatten())\n",
        "\n",
        "model.add(Dense(128,activation='relu'))\n",
        "model.add(Dropout(0.2))\n",
        "model.add(Dense(128,activation='relu'))\n",
        "model.add(Dropout(0.2))\n",
        "model.add(Dense(10,activation='softmax'))\n",
        "\n",
        "model.compile(loss='categorical_crossentropy',optimizer = 'adam',\n",
        "              metrics=['accuracy'])\n",
        "\n",
        "\n",
        "\n"
      ],
      "execution_count": 0,
      "outputs": []
    },
    {
      "cell_type": "code",
      "metadata": {
        "id": "__-H-52yNwBf",
        "colab_type": "code",
        "colab": {
          "base_uri": "https://localhost:8080/",
          "height": 564
        },
        "outputId": "3f24f22c-f02f-4d77-af49-cdb0b3f894a7"
      },
      "source": [
        "model.summary()"
      ],
      "execution_count": 53,
      "outputs": [
        {
          "output_type": "stream",
          "text": [
            "Model: \"sequential_4\"\n",
            "_________________________________________________________________\n",
            "Layer (type)                 Output Shape              Param #   \n",
            "=================================================================\n",
            "conv2d_8 (Conv2D)            (None, 25, 25, 32)        544       \n",
            "_________________________________________________________________\n",
            "max_pooling2d_8 (MaxPooling2 (None, 12, 12, 32)        0         \n",
            "_________________________________________________________________\n",
            "dropout_9 (Dropout)          (None, 12, 12, 32)        0         \n",
            "_________________________________________________________________\n",
            "conv2d_9 (Conv2D)            (None, 9, 9, 32)          16416     \n",
            "_________________________________________________________________\n",
            "max_pooling2d_9 (MaxPooling2 (None, 4, 4, 32)          0         \n",
            "_________________________________________________________________\n",
            "flatten_2 (Flatten)          (None, 512)               0         \n",
            "_________________________________________________________________\n",
            "dense_6 (Dense)              (None, 128)               65664     \n",
            "_________________________________________________________________\n",
            "dropout_10 (Dropout)         (None, 128)               0         \n",
            "_________________________________________________________________\n",
            "dense_7 (Dense)              (None, 128)               16512     \n",
            "_________________________________________________________________\n",
            "dropout_11 (Dropout)         (None, 128)               0         \n",
            "_________________________________________________________________\n",
            "dense_8 (Dense)              (None, 10)                1290      \n",
            "=================================================================\n",
            "Total params: 100,426\n",
            "Trainable params: 100,426\n",
            "Non-trainable params: 0\n",
            "_________________________________________________________________\n"
          ],
          "name": "stdout"
        }
      ]
    },
    {
      "cell_type": "code",
      "metadata": {
        "id": "AZ6rSCRRLo5O",
        "colab_type": "code",
        "colab": {
          "base_uri": "https://localhost:8080/",
          "height": 820
        },
        "outputId": "032370af-6b30-45a0-dd27-707ae026934e"
      },
      "source": [
        "model.fit(X_train,y_cat_train,epochs=30,\n",
        "          validation_data=(X_test,y_cat_test),\n",
        "          callbacks=[early_stop])"
      ],
      "execution_count": 67,
      "outputs": [
        {
          "output_type": "stream",
          "text": [
            "Epoch 1/30\n",
            "1875/1875 [==============================] - 59s 31ms/step - loss: 0.5783 - accuracy: 0.7851 - val_loss: 0.3963 - val_accuracy: 0.8540\n",
            "Epoch 2/30\n",
            "1875/1875 [==============================] - 57s 31ms/step - loss: 0.3803 - accuracy: 0.8619 - val_loss: 0.3391 - val_accuracy: 0.8754\n",
            "Epoch 3/30\n",
            "1875/1875 [==============================] - 60s 32ms/step - loss: 0.3382 - accuracy: 0.8745 - val_loss: 0.3317 - val_accuracy: 0.8808\n",
            "Epoch 4/30\n",
            "1875/1875 [==============================] - 61s 32ms/step - loss: 0.3092 - accuracy: 0.8865 - val_loss: 0.3094 - val_accuracy: 0.8895\n",
            "Epoch 5/30\n",
            "1875/1875 [==============================] - 61s 32ms/step - loss: 0.2912 - accuracy: 0.8924 - val_loss: 0.3021 - val_accuracy: 0.8880\n",
            "Epoch 6/30\n",
            "1875/1875 [==============================] - 60s 32ms/step - loss: 0.2780 - accuracy: 0.8952 - val_loss: 0.2861 - val_accuracy: 0.8954\n",
            "Epoch 7/30\n",
            "1875/1875 [==============================] - 59s 32ms/step - loss: 0.2687 - accuracy: 0.8992 - val_loss: 0.2874 - val_accuracy: 0.8947\n",
            "Epoch 8/30\n",
            "1875/1875 [==============================] - 62s 33ms/step - loss: 0.2542 - accuracy: 0.9047 - val_loss: 0.2904 - val_accuracy: 0.8926\n",
            "Epoch 9/30\n",
            "1875/1875 [==============================] - 61s 32ms/step - loss: 0.2489 - accuracy: 0.9061 - val_loss: 0.2894 - val_accuracy: 0.8947\n",
            "Epoch 10/30\n",
            "1875/1875 [==============================] - 60s 32ms/step - loss: 0.2438 - accuracy: 0.9082 - val_loss: 0.2823 - val_accuracy: 0.8954\n",
            "Epoch 11/30\n",
            "1875/1875 [==============================] - 56s 30ms/step - loss: 0.2412 - accuracy: 0.9094 - val_loss: 0.2682 - val_accuracy: 0.9034\n",
            "Epoch 12/30\n",
            "1875/1875 [==============================] - 55s 29ms/step - loss: 0.2309 - accuracy: 0.9130 - val_loss: 0.3039 - val_accuracy: 0.8914\n",
            "Epoch 13/30\n",
            "1875/1875 [==============================] - 56s 30ms/step - loss: 0.2291 - accuracy: 0.9149 - val_loss: 0.2838 - val_accuracy: 0.8996\n",
            "Epoch 14/30\n",
            "1875/1875 [==============================] - 55s 29ms/step - loss: 0.2225 - accuracy: 0.9158 - val_loss: 0.2781 - val_accuracy: 0.9014\n",
            "Epoch 15/30\n",
            "1875/1875 [==============================] - 55s 29ms/step - loss: 0.2159 - accuracy: 0.9189 - val_loss: 0.2959 - val_accuracy: 0.8956\n",
            "Epoch 16/30\n",
            "1875/1875 [==============================] - 56s 30ms/step - loss: 0.2129 - accuracy: 0.9196 - val_loss: 0.2678 - val_accuracy: 0.9041\n",
            "Epoch 17/30\n",
            "1875/1875 [==============================] - 57s 31ms/step - loss: 0.2109 - accuracy: 0.9198 - val_loss: 0.2869 - val_accuracy: 0.8982\n",
            "Epoch 18/30\n",
            "1875/1875 [==============================] - 58s 31ms/step - loss: 0.2085 - accuracy: 0.9212 - val_loss: 0.2761 - val_accuracy: 0.9030\n",
            "Epoch 19/30\n",
            "1875/1875 [==============================] - 61s 32ms/step - loss: 0.2037 - accuracy: 0.9223 - val_loss: 0.2775 - val_accuracy: 0.9017\n",
            "Epoch 20/30\n",
            "1875/1875 [==============================] - 56s 30ms/step - loss: 0.2009 - accuracy: 0.9239 - val_loss: 0.2907 - val_accuracy: 0.9018\n",
            "Epoch 21/30\n",
            "1875/1875 [==============================] - 58s 31ms/step - loss: 0.2002 - accuracy: 0.9240 - val_loss: 0.2830 - val_accuracy: 0.9034\n"
          ],
          "name": "stdout"
        },
        {
          "output_type": "execute_result",
          "data": {
            "text/plain": [
              "<tensorflow.python.keras.callbacks.History at 0x7f7375162198>"
            ]
          },
          "metadata": {
            "tags": []
          },
          "execution_count": 67
        }
      ]
    },
    {
      "cell_type": "code",
      "metadata": {
        "id": "WdIKHDO8gUDv",
        "colab_type": "code",
        "colab": {}
      },
      "source": [
        "metric= pd.DataFrame(model.history.history)"
      ],
      "execution_count": 0,
      "outputs": []
    },
    {
      "cell_type": "code",
      "metadata": {
        "id": "A-9dSKa4hhRp",
        "colab_type": "code",
        "colab": {
          "base_uri": "https://localhost:8080/",
          "height": 283
        },
        "outputId": "4c045fc4-01a8-46b0-8fab-312da8c53863"
      },
      "source": [
        "metric[['loss','val_loss']].plot()"
      ],
      "execution_count": 69,
      "outputs": [
        {
          "output_type": "execute_result",
          "data": {
            "text/plain": [
              "<matplotlib.axes._subplots.AxesSubplot at 0x7f7376046278>"
            ]
          },
          "metadata": {
            "tags": []
          },
          "execution_count": 69
        },
        {
          "output_type": "display_data",
          "data": {
            "image/png": "[encoded data removed]",
            "text/plain": [
              "<Figure size 432x288 with 1 Axes>"
            ]
          },
          "metadata": {
            "tags": [],
            "needs_background": "light"
          }
        }
      ]
    },
    {
      "cell_type": "code",
      "metadata": {
        "id": "QhkKnqDIhmWp",
        "colab_type": "code",
        "colab": {
          "base_uri": "https://localhost:8080/",
          "height": 283
        },
        "outputId": "f6ff64bd-379d-447f-e619-915dab4b266b"
      },
      "source": [
        "metric[['accuracy','val_accuracy']].plot()"
      ],
      "execution_count": 70,
      "outputs": [
        {
          "output_type": "execute_result",
          "data": {
            "text/plain": [
              "<matplotlib.axes._subplots.AxesSubplot at 0x7f73716af2b0>"
            ]
          },
          "metadata": {
            "tags": []
          },
          "execution_count": 70
        },
        {
          "output_type": "display_data",
          "data": {
            "image/png": "[encoded data removed]",
            "text/plain": [
              "<Figure size 432x288 with 1 Axes>"
            ]
          },
          "metadata": {
            "tags": [],
            "needs_background": "light"
          }
        }
      ]
    },
    {
      "cell_type": "code",
      "metadata": {
        "id": "_rPp2JOHNGsw",
        "colab_type": "code",
        "colab": {
          "base_uri": "https://localhost:8080/",
          "height": 1000
        },
        "outputId": "91d6b21f-68bf-4448-87fb-e17213ca1c54"
      },
      "source": [
        "model.fit(X_train,y_cat_train,epochs=30,\n",
        "          validation_data=(X_test,y_cat_test)\n",
        "          )"
      ],
      "execution_count": 61,
      "outputs": [
        {
          "output_type": "stream",
          "text": [
            "Epoch 1/30\n",
            "1875/1875 [==============================] - 58s 31ms/step - loss: 0.2021 - accuracy: 0.9233 - val_loss: 0.2840 - val_accuracy: 0.9026\n",
            "Epoch 2/30\n",
            "1875/1875 [==============================] - 60s 32ms/step - loss: 0.1990 - accuracy: 0.9240 - val_loss: 0.2803 - val_accuracy: 0.9046\n",
            "Epoch 3/30\n",
            "1875/1875 [==============================] - 57s 31ms/step - loss: 0.1961 - accuracy: 0.9257 - val_loss: 0.2868 - val_accuracy: 0.9046\n",
            "Epoch 4/30\n",
            "1875/1875 [==============================] - 58s 31ms/step - loss: 0.1934 - accuracy: 0.9280 - val_loss: 0.2765 - val_accuracy: 0.9083\n",
            "Epoch 5/30\n",
            "1875/1875 [==============================] - 64s 34ms/step - loss: 0.1925 - accuracy: 0.9263 - val_loss: 0.2823 - val_accuracy: 0.9045\n",
            "Epoch 6/30\n",
            "1875/1875 [==============================] - 57s 31ms/step - loss: 0.1913 - accuracy: 0.9272 - val_loss: 0.2765 - val_accuracy: 0.9106\n",
            "Epoch 7/30\n",
            "1875/1875 [==============================] - 57s 31ms/step - loss: 0.1843 - accuracy: 0.9308 - val_loss: 0.3048 - val_accuracy: 0.9035\n",
            "Epoch 8/30\n",
            "1875/1875 [==============================] - 57s 31ms/step - loss: 0.1853 - accuracy: 0.9301 - val_loss: 0.2897 - val_accuracy: 0.9104\n",
            "Epoch 9/30\n",
            "1875/1875 [==============================] - 56s 30ms/step - loss: 0.1834 - accuracy: 0.9300 - val_loss: 0.2821 - val_accuracy: 0.9046\n",
            "Epoch 10/30\n",
            "1875/1875 [==============================] - 56s 30ms/step - loss: 0.1800 - accuracy: 0.9316 - val_loss: 0.2824 - val_accuracy: 0.9090\n",
            "Epoch 11/30\n",
            "1875/1875 [==============================] - 54s 29ms/step - loss: 0.1799 - accuracy: 0.9315 - val_loss: 0.2902 - val_accuracy: 0.9080\n",
            "Epoch 12/30\n",
            "1875/1875 [==============================] - 55s 29ms/step - loss: 0.1787 - accuracy: 0.9324 - val_loss: 0.2847 - val_accuracy: 0.9103\n",
            "Epoch 13/30\n",
            "1875/1875 [==============================] - 56s 30ms/step - loss: 0.1780 - accuracy: 0.9323 - val_loss: 0.2998 - val_accuracy: 0.9033\n",
            "Epoch 14/30\n",
            "1875/1875 [==============================] - 56s 30ms/step - loss: 0.1748 - accuracy: 0.9335 - val_loss: 0.3126 - val_accuracy: 0.9057\n",
            "Epoch 15/30\n",
            "1875/1875 [==============================] - 63s 33ms/step - loss: 0.1757 - accuracy: 0.9338 - val_loss: 0.2957 - val_accuracy: 0.9075\n",
            "Epoch 16/30\n",
            "1875/1875 [==============================] - 57s 31ms/step - loss: 0.1688 - accuracy: 0.9360 - val_loss: 0.3009 - val_accuracy: 0.9066\n",
            "Epoch 17/30\n",
            "1875/1875 [==============================] - 59s 32ms/step - loss: 0.1688 - accuracy: 0.9372 - val_loss: 0.3044 - val_accuracy: 0.9090\n",
            "Epoch 18/30\n",
            "1875/1875 [==============================] - 60s 32ms/step - loss: 0.1695 - accuracy: 0.9353 - val_loss: 0.3048 - val_accuracy: 0.9062\n",
            "Epoch 19/30\n",
            "1875/1875 [==============================] - 59s 32ms/step - loss: 0.1685 - accuracy: 0.9358 - val_loss: 0.3031 - val_accuracy: 0.9056\n",
            "Epoch 20/30\n",
            "1875/1875 [==============================] - 58s 31ms/step - loss: 0.1671 - accuracy: 0.9369 - val_loss: 0.3079 - val_accuracy: 0.9040\n",
            "Epoch 21/30\n",
            "1875/1875 [==============================] - 60s 32ms/step - loss: 0.1682 - accuracy: 0.9367 - val_loss: 0.2997 - val_accuracy: 0.9076\n",
            "Epoch 22/30\n",
            "1875/1875 [==============================] - 60s 32ms/step - loss: 0.1652 - accuracy: 0.9373 - val_loss: 0.3019 - val_accuracy: 0.9051\n",
            "Epoch 23/30\n",
            "1875/1875 [==============================] - 59s 32ms/step - loss: 0.1635 - accuracy: 0.9378 - val_loss: 0.2979 - val_accuracy: 0.9069\n",
            "Epoch 24/30\n",
            "1875/1875 [==============================] - 60s 32ms/step - loss: 0.1656 - accuracy: 0.9371 - val_loss: 0.2972 - val_accuracy: 0.9113\n",
            "Epoch 25/30\n",
            "1875/1875 [==============================] - 61s 32ms/step - loss: 0.1583 - accuracy: 0.9385 - val_loss: 0.3049 - val_accuracy: 0.9074\n",
            "Epoch 26/30\n",
            "1875/1875 [==============================] - 61s 33ms/step - loss: 0.1612 - accuracy: 0.9394 - val_loss: 0.3050 - val_accuracy: 0.9062\n",
            "Epoch 27/30\n",
            "1875/1875 [==============================] - 56s 30ms/step - loss: 0.1572 - accuracy: 0.9407 - val_loss: 0.3054 - val_accuracy: 0.9096\n",
            "Epoch 28/30\n",
            "1875/1875 [==============================] - 55s 29ms/step - loss: 0.1534 - accuracy: 0.9413 - val_loss: 0.3264 - val_accuracy: 0.9062\n",
            "Epoch 29/30\n",
            "1875/1875 [==============================] - 54s 29ms/step - loss: 0.1580 - accuracy: 0.9401 - val_loss: 0.3101 - val_accuracy: 0.9096\n",
            "Epoch 30/30\n",
            "1875/1875 [==============================] - 55s 29ms/step - loss: 0.1566 - accuracy: 0.9416 - val_loss: 0.3198 - val_accuracy: 0.9116\n"
          ],
          "name": "stdout"
        },
        {
          "output_type": "execute_result",
          "data": {
            "text/plain": [
              "<tensorflow.python.keras.callbacks.History at 0x7f73760baa90>"
            ]
          },
          "metadata": {
            "tags": []
          },
          "execution_count": 61
        }
      ]
    },
    {
      "cell_type": "code",
      "metadata": {
        "id": "2W8ViagWT08f",
        "colab_type": "code",
        "colab": {}
      },
      "source": [
        "loss= pd.DataFrame(model.history.history)"
      ],
      "execution_count": 0,
      "outputs": []
    },
    {
      "cell_type": "code",
      "metadata": {
        "id": "q0XNi9MIcANB",
        "colab_type": "code",
        "colab": {
          "base_uri": "https://localhost:8080/",
          "height": 990
        },
        "outputId": "92b94aa0-ace8-482b-f1a5-361929c5a1ae"
      },
      "source": [
        "loss"
      ],
      "execution_count": 63,
      "outputs": [
        {
          "output_type": "execute_result",
          "data": {
            "text/html": [
              "<div>\n",
              "<style scoped>\n",
              "    .dataframe tbody tr th:only-of-type {\n",
              "        vertical-align: middle;\n",
              "    }\n",
              "\n",
              "    .dataframe tbody tr th {\n",
              "        vertical-align: top;\n",
              "    }\n",
              "\n",
              "    .dataframe thead th {\n",
              "        text-align: right;\n",
              "    }\n",
              "</style>\n",
              "<table border=\"1\" class=\"dataframe\">\n",
              "  <thead>\n",
              "    <tr style=\"text-align: right;\">\n",
              "      <th></th>\n",
              "      <th>loss</th>\n",
              "      <th>accuracy</th>\n",
              "      <th>val_loss</th>\n",
              "      <th>val_accuracy</th>\n",
              "    </tr>\n",
              "  </thead>\n",
              "  <tbody>\n",
              "    <tr>\n",
              "      <th>0</th>\n",
              "      <td>0.202128</td>\n",
              "      <td>0.923317</td>\n",
              "      <td>0.284003</td>\n",
              "      <td>0.9026</td>\n",
              "    </tr>\n",
              "    <tr>\n",
              "      <th>1</th>\n",
              "      <td>0.198994</td>\n",
              "      <td>0.923950</td>\n",
              "      <td>0.280275</td>\n",
              "      <td>0.9046</td>\n",
              "    </tr>\n",
              "    <tr>\n",
              "      <th>2</th>\n",
              "      <td>0.196138</td>\n",
              "      <td>0.925733</td>\n",
              "      <td>0.286769</td>\n",
              "      <td>0.9046</td>\n",
              "    </tr>\n",
              "    <tr>\n",
              "      <th>3</th>\n",
              "      <td>0.193450</td>\n",
              "      <td>0.927950</td>\n",
              "      <td>0.276526</td>\n",
              "      <td>0.9083</td>\n",
              "    </tr>\n",
              "    <tr>\n",
              "      <th>4</th>\n",
              "      <td>0.192467</td>\n",
              "      <td>0.926283</td>\n",
              "      <td>0.282278</td>\n",
              "      <td>0.9045</td>\n",
              "    </tr>\n",
              "    <tr>\n",
              "      <th>5</th>\n",
              "      <td>0.191327</td>\n",
              "      <td>0.927183</td>\n",
              "      <td>0.276507</td>\n",
              "      <td>0.9106</td>\n",
              "    </tr>\n",
              "    <tr>\n",
              "      <th>6</th>\n",
              "      <td>0.184324</td>\n",
              "      <td>0.930800</td>\n",
              "      <td>0.304833</td>\n",
              "      <td>0.9035</td>\n",
              "    </tr>\n",
              "    <tr>\n",
              "      <th>7</th>\n",
              "      <td>0.185343</td>\n",
              "      <td>0.930117</td>\n",
              "      <td>0.289702</td>\n",
              "      <td>0.9104</td>\n",
              "    </tr>\n",
              "    <tr>\n",
              "      <th>8</th>\n",
              "      <td>0.183448</td>\n",
              "      <td>0.929967</td>\n",
              "      <td>0.282131</td>\n",
              "      <td>0.9046</td>\n",
              "    </tr>\n",
              "    <tr>\n",
              "      <th>9</th>\n",
              "      <td>0.180017</td>\n",
              "      <td>0.931650</td>\n",
              "      <td>0.282440</td>\n",
              "      <td>0.9090</td>\n",
              "    </tr>\n",
              "    <tr>\n",
              "      <th>10</th>\n",
              "      <td>0.179894</td>\n",
              "      <td>0.931500</td>\n",
              "      <td>0.290192</td>\n",
              "      <td>0.9080</td>\n",
              "    </tr>\n",
              "    <tr>\n",
              "      <th>11</th>\n",
              "      <td>0.178668</td>\n",
              "      <td>0.932367</td>\n",
              "      <td>0.284696</td>\n",
              "      <td>0.9103</td>\n",
              "    </tr>\n",
              "    <tr>\n",
              "      <th>12</th>\n",
              "      <td>0.177990</td>\n",
              "      <td>0.932267</td>\n",
              "      <td>0.299840</td>\n",
              "      <td>0.9033</td>\n",
              "    </tr>\n",
              "    <tr>\n",
              "      <th>13</th>\n",
              "      <td>0.174769</td>\n",
              "      <td>0.933467</td>\n",
              "      <td>0.312558</td>\n",
              "      <td>0.9057</td>\n",
              "    </tr>\n",
              "    <tr>\n",
              "      <th>14</th>\n",
              "      <td>0.175748</td>\n",
              "      <td>0.933817</td>\n",
              "      <td>0.295729</td>\n",
              "      <td>0.9075</td>\n",
              "    </tr>\n",
              "    <tr>\n",
              "      <th>15</th>\n",
              "      <td>0.168830</td>\n",
              "      <td>0.936000</td>\n",
              "      <td>0.300874</td>\n",
              "      <td>0.9066</td>\n",
              "    </tr>\n",
              "    <tr>\n",
              "      <th>16</th>\n",
              "      <td>0.168808</td>\n",
              "      <td>0.937150</td>\n",
              "      <td>0.304437</td>\n",
              "      <td>0.9090</td>\n",
              "    </tr>\n",
              "    <tr>\n",
              "      <th>17</th>\n",
              "      <td>0.169451</td>\n",
              "      <td>0.935300</td>\n",
              "      <td>0.304842</td>\n",
              "      <td>0.9062</td>\n",
              "    </tr>\n",
              "    <tr>\n",
              "      <th>18</th>\n",
              "      <td>0.168510</td>\n",
              "      <td>0.935750</td>\n",
              "      <td>0.303102</td>\n",
              "      <td>0.9056</td>\n",
              "    </tr>\n",
              "    <tr>\n",
              "      <th>19</th>\n",
              "      <td>0.167107</td>\n",
              "      <td>0.936900</td>\n",
              "      <td>0.307947</td>\n",
              "      <td>0.9040</td>\n",
              "    </tr>\n",
              "    <tr>\n",
              "      <th>20</th>\n",
              "      <td>0.168234</td>\n",
              "      <td>0.936683</td>\n",
              "      <td>0.299724</td>\n",
              "      <td>0.9076</td>\n",
              "    </tr>\n",
              "    <tr>\n",
              "      <th>21</th>\n",
              "      <td>0.165183</td>\n",
              "      <td>0.937350</td>\n",
              "      <td>0.301923</td>\n",
              "      <td>0.9051</td>\n",
              "    </tr>\n",
              "    <tr>\n",
              "      <th>22</th>\n",
              "      <td>0.163478</td>\n",
              "      <td>0.937833</td>\n",
              "      <td>0.297854</td>\n",
              "      <td>0.9069</td>\n",
              "    </tr>\n",
              "    <tr>\n",
              "      <th>23</th>\n",
              "      <td>0.165554</td>\n",
              "      <td>0.937117</td>\n",
              "      <td>0.297200</td>\n",
              "      <td>0.9113</td>\n",
              "    </tr>\n",
              "    <tr>\n",
              "      <th>24</th>\n",
              "      <td>0.158311</td>\n",
              "      <td>0.938533</td>\n",
              "      <td>0.304894</td>\n",
              "      <td>0.9074</td>\n",
              "    </tr>\n",
              "    <tr>\n",
              "      <th>25</th>\n",
              "      <td>0.161225</td>\n",
              "      <td>0.939383</td>\n",
              "      <td>0.305009</td>\n",
              "      <td>0.9062</td>\n",
              "    </tr>\n",
              "    <tr>\n",
              "      <th>26</th>\n",
              "      <td>0.157154</td>\n",
              "      <td>0.940733</td>\n",
              "      <td>0.305381</td>\n",
              "      <td>0.9096</td>\n",
              "    </tr>\n",
              "    <tr>\n",
              "      <th>27</th>\n",
              "      <td>0.153366</td>\n",
              "      <td>0.941333</td>\n",
              "      <td>0.326379</td>\n",
              "      <td>0.9062</td>\n",
              "    </tr>\n",
              "    <tr>\n",
              "      <th>28</th>\n",
              "      <td>0.158048</td>\n",
              "      <td>0.940100</td>\n",
              "      <td>0.310058</td>\n",
              "      <td>0.9096</td>\n",
              "    </tr>\n",
              "    <tr>\n",
              "      <th>29</th>\n",
              "      <td>0.156638</td>\n",
              "      <td>0.941567</td>\n",
              "      <td>0.319806</td>\n",
              "      <td>0.9116</td>\n",
              "    </tr>\n",
              "  </tbody>\n",
              "</table>\n",
              "</div>"
            ],
            "text/plain": [
              "        loss  accuracy  val_loss  val_accuracy\n",
              "0   0.202128  0.923317  0.284003        0.9026\n",
              "1   0.198994  0.923950  0.280275        0.9046\n",
              "2   0.196138  0.925733  0.286769        0.9046\n",
              "3   0.193450  0.927950  0.276526        0.9083\n",
              "4   0.192467  0.926283  0.282278        0.9045\n",
              "5   0.191327  0.927183  0.276507        0.9106\n",
              "6   0.184324  0.930800  0.304833        0.9035\n",
              "7   0.185343  0.930117  0.289702        0.9104\n",
              "8   0.183448  0.929967  0.282131        0.9046\n",
              "9   0.180017  0.931650  0.282440        0.9090\n",
              "10  0.179894  0.931500  0.290192        0.9080\n",
              "11  0.178668  0.932367  0.284696        0.9103\n",
              "12  0.177990  0.932267  0.299840        0.9033\n",
              "13  0.174769  0.933467  0.312558        0.9057\n",
              "14  0.175748  0.933817  0.295729        0.9075\n",
              "15  0.168830  0.936000  0.300874        0.9066\n",
              "16  0.168808  0.937150  0.304437        0.9090\n",
              "17  0.169451  0.935300  0.304842        0.9062\n",
              "18  0.168510  0.935750  0.303102        0.9056\n",
              "19  0.167107  0.936900  0.307947        0.9040\n",
              "20  0.168234  0.936683  0.299724        0.9076\n",
              "21  0.165183  0.937350  0.301923        0.9051\n",
              "22  0.163478  0.937833  0.297854        0.9069\n",
              "23  0.165554  0.937117  0.297200        0.9113\n",
              "24  0.158311  0.938533  0.304894        0.9074\n",
              "25  0.161225  0.939383  0.305009        0.9062\n",
              "26  0.157154  0.940733  0.305381        0.9096\n",
              "27  0.153366  0.941333  0.326379        0.9062\n",
              "28  0.158048  0.940100  0.310058        0.9096\n",
              "29  0.156638  0.941567  0.319806        0.9116"
            ]
          },
          "metadata": {
            "tags": []
          },
          "execution_count": 63
        }
      ]
    },
    {
      "cell_type": "code",
      "metadata": {
        "id": "bqGZ-8pPcBVq",
        "colab_type": "code",
        "colab": {
          "base_uri": "https://localhost:8080/",
          "height": 283
        },
        "outputId": "015e3c56-97fc-4b27-aa4a-9f2fd525ef97"
      },
      "source": [
        "loss[['loss','val_loss']].plot()"
      ],
      "execution_count": 64,
      "outputs": [
        {
          "output_type": "execute_result",
          "data": {
            "text/plain": [
              "<matplotlib.axes._subplots.AxesSubplot at 0x7f7376053940>"
            ]
          },
          "metadata": {
            "tags": []
          },
          "execution_count": 64
        },
        {
          "output_type": "display_data",
          "data": {
            "image/png": "[encoded data removed]",
            "text/plain": [
              "<Figure size 432x288 with 1 Axes>"
            ]
          },
          "metadata": {
            "tags": [],
            "needs_background": "light"
          }
        }
      ]
    },
    {
      "cell_type": "code",
      "metadata": {
        "id": "ZpBgPh6jcGiq",
        "colab_type": "code",
        "colab": {
          "base_uri": "https://localhost:8080/",
          "height": 283
        },
        "outputId": "12d629be-d824-42e3-89c0-676e4ad6739d"
      },
      "source": [
        "loss[['accuracy','val_accuracy']].plot()"
      ],
      "execution_count": 65,
      "outputs": [
        {
          "output_type": "execute_result",
          "data": {
            "text/plain": [
              "<matplotlib.axes._subplots.AxesSubplot at 0x7f73746c2c18>"
            ]
          },
          "metadata": {
            "tags": []
          },
          "execution_count": 65
        },
        {
          "output_type": "display_data",
          "data": {
            "image/png": "[encoded data removed]",
            "text/plain": [
              "<Figure size 432x288 with 1 Axes>"
            ]
          },
          "metadata": {
            "tags": [],
            "needs_background": "light"
          }
        }
      ]
    },
    {
      "cell_type": "code",
      "metadata": {
        "id": "qPwtLx5FcL_c",
        "colab_type": "code",
        "colab": {}
      },
      "source": [
        "from sklearn.metrics import classification_report"
      ],
      "execution_count": 0,
      "outputs": []
    },
    {
      "cell_type": "code",
      "metadata": {
        "id": "MJNjYTE7h2ea",
        "colab_type": "code",
        "colab": {
          "base_uri": "https://localhost:8080/",
          "height": 92
        },
        "outputId": "1c222e80-d822-4115-d4de-3103af8ac1d8"
      },
      "source": [
        "pred = model.predict_classes(X_test)"
      ],
      "execution_count": 72,
      "outputs": [
        {
          "output_type": "stream",
          "text": [
            "WARNING:tensorflow:From <ipython-input-72-a3e3e5c68c66>:1: Sequential.predict_classes (from tensorflow.python.keras.engine.sequential) is deprecated and will be removed after 2021-01-01.\n",
            "Instructions for updating:\n",
            "Please use instead:* `np.argmax(model.predict(x), axis=-1)`,   if your model does multi-class classification   (e.g. if it uses a `softmax` last-layer activation).* `(model.predict(x) > 0.5).astype(\"int32\")`,   if your model does binary classification   (e.g. if it uses a `sigmoid` last-layer activation).\n"
          ],
          "name": "stdout"
        }
      ]
    },
    {
      "cell_type": "code",
      "metadata": {
        "id": "fvB5avnkh6dK",
        "colab_type": "code",
        "colab": {
          "base_uri": "https://localhost:8080/",
          "height": 327
        },
        "outputId": "cce91416-a848-48ac-97e9-5584472bd405"
      },
      "source": [
        "print(classification_report(y_test,pred))"
      ],
      "execution_count": 73,
      "outputs": [
        {
          "output_type": "stream",
          "text": [
            "              precision    recall  f1-score   support\n",
            "\n",
            "           0       0.90      0.80      0.85      1000\n",
            "           1       0.99      0.98      0.98      1000\n",
            "           2       0.88      0.83      0.85      1000\n",
            "           3       0.91      0.91      0.91      1000\n",
            "           4       0.82      0.85      0.84      1000\n",
            "           5       0.98      0.98      0.98      1000\n",
            "           6       0.68      0.78      0.72      1000\n",
            "           7       0.96      0.97      0.96      1000\n",
            "           8       0.98      0.97      0.98      1000\n",
            "           9       0.97      0.96      0.97      1000\n",
            "\n",
            "    accuracy                           0.90     10000\n",
            "   macro avg       0.91      0.90      0.90     10000\n",
            "weighted avg       0.91      0.90      0.90     10000\n",
            "\n"
          ],
          "name": "stdout"
        }
      ]
    },
    {
      "cell_type": "code",
      "metadata": {
        "id": "M76L54pmh_U6",
        "colab_type": "code",
        "colab": {}
      },
      "source": [
        ""
      ],
      "execution_count": 0,
      "outputs": []
    }
  ]
}